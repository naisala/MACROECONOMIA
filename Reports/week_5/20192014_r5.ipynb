{
 "cells": [
  {
   "cell_type": "markdown",
   "id": "e7cf893d",
   "metadata": {},
   "source": [
    "# REPORT 5\n",
    "### 20192014 \n",
    "\n",
    "## Reading Section\n"
   ]
  },
  {
   "cell_type": "markdown",
   "id": "70983645",
   "metadata": {},
   "source": [
    "This research aims to evaluate the effects of the increase of the minimum wage on wages and employment in Peru given that in recent decades it has been used as a public policy tool to promote equity by benefiting people with lower wages. After reviewing the literature on past experiences in other countries in the region and some Peruvian cases of increases, the author wonders how the minimum wage works in the Peruvian labor market and to what extent it can contribute to the objectives of social inclusion.\n",
    "\n",
    "In this framework, the author makes a well-founded criticism by questioning the effectiveness of the increase of the minimum wage as a measure of social inclusion. As a result, he makes some important discoveries. In the first place, it finds a series of contrary effects since it puts formal workers at risk, it has a negative effect on employment and a positive one for informal employment and, taking into account the limited state capacity to enforce the law, it identifies a counterproductive effect in which the greater the increase of the minimum wage with respect to the average salary, the higher the rate of non-compliance with the law and, therefore, the less effective the policy. Another problem that he manages to find is the centralized nature of the minimum wage increase policy, since it seems to be only effective in Lima, as it has the highest compliance rate, unlike the rest of the regions. Following this line, the design of the policy seems not to have taken into account the heterogeneity of productivity levels and average wages in the other regions, which produces a domino effect: since the new minimum wage becomes much higher than the average wage, which leads to both worker and employer to have incentives to make a new deal (collusion) and, finally, leads to an increase in non-compliance with the law.\n",
    "\n",
    "On the other hand, the research presents some weak points due to the market it is being studying. Although in the case of Peru it is important to cover the informal sector due to the majority percentage of the economy that is submerged in it, it is also difficult to obtain reliable data from the informal sector due to the constant flows of mobility from the formal to the informal sector, which interfere with its study. In addition, the author mentions in a very superficial way the subject of the vulnerability of women in the face of the increase of the minimum wage without delving further into the subject to reach a pertinent conclusion (as he did delve into the case of the consequences on young people). However, this can be used as an opportunity to move the question forward. The article lays the foundations so that more researches can be initiated and argue about the importance of designing public policies for social inclusion with a gender focus, perhaps promoting the participation of women in the market as indicated in the Report on gender equality in Europe, LATAM and Spain from the EAE Business School. In addition, with the arrival of COVID, its effects on informality in Peru can be analyzed, since according to the Inter-American Development Bank (IDB), although there have been reductions in informality throughout the region, it was estimated that after the loss of formal jobs there was going to be a much higher rate of informality as of 2021, which would serve to reformulate some approaches of this research and adjust them to the situation.\n",
    "\n",
    "Finally, despite having been written in 2010, the text seems to be asynchronous, because despite the time that has elapsed, it continues to adapt to the national situation, providing an understanding of the Peruvian economic structure characterized by a high level of informality in which the increase in The RMV as a public policy of social inclusion is not effective, but rather has counterproductive effects that are detrimental to the Peruvian labor market and to attract workers to the formal sector. We have seen this pattern repeated in recent attempts by the executive to benefit people with lower salaries, but this research would indicate that new strategies should be applied instead of repeating the same old mistake.\n",
    "\n",
    "Sources:\n",
    "\n",
    "Ruiz, C. (2020). _Perspectiva Global de la mujer 2020_. EAE Business School. https://www.belenmarron.com/wp-content/uploads/2021/01/SRC_Mujer.pdf\n",
    "\n",
    "Banco Interamericano de desarrollo (2021). _Informalidad en los tiempos de l COVID - 19 en Am érica Latina: implicaciones y opciones de amortiguamiento_. Oficina de Planificación Estratégica y Efectividad en el Desarrollo, https://publications.iadb.org/publications/spanish/document/Informalidad-en-los-tiempos-del-COVID-19-en-America-Latina-Implicaciones-y-opciones-de-amortiguamiento.pdf\n"
   ]
  },
  {
   "cell_type": "markdown",
   "id": "653ae880",
   "metadata": {},
   "source": [
    "## Coding Section\n",
    "### 1. You have to replicate figure 3 of Acemoglu et al 2001 (the last paper we read). Describe the patterns you find. "
   ]
  },
  {
   "cell_type": "code",
   "execution_count": 6,
   "id": "ccd8b6ce",
   "metadata": {},
   "outputs": [],
   "source": [
    "import pandas as pd\n",
    "import matplotlib.pyplot as plt\n",
    "import warnings \n",
    "import seaborn as sns\n",
    "import statsmodels.api as sm\n",
    "import statsmodels.formula.api as smf\n",
    "import numpy as np \n",
    "from statsmodels.iolib.summary2 import summary_col"
   ]
  },
  {
   "cell_type": "code",
   "execution_count": 7,
   "id": "2db377be",
   "metadata": {
    "scrolled": false
   },
   "outputs": [
    {
     "data": {
      "text/html": [
       "<div>\n",
       "<style scoped>\n",
       "    .dataframe tbody tr th:only-of-type {\n",
       "        vertical-align: middle;\n",
       "    }\n",
       "\n",
       "    .dataframe tbody tr th {\n",
       "        vertical-align: top;\n",
       "    }\n",
       "\n",
       "    .dataframe thead th {\n",
       "        text-align: right;\n",
       "    }\n",
       "</style>\n",
       "<table border=\"1\" class=\"dataframe\">\n",
       "  <thead>\n",
       "    <tr style=\"text-align: right;\">\n",
       "      <th></th>\n",
       "      <th>longname</th>\n",
       "      <th>shortnam</th>\n",
       "      <th>logmort0</th>\n",
       "      <th>risk</th>\n",
       "      <th>loggdp</th>\n",
       "      <th>campaign</th>\n",
       "      <th>source0</th>\n",
       "      <th>slave</th>\n",
       "      <th>latitude</th>\n",
       "      <th>neoeuro</th>\n",
       "      <th>...</th>\n",
       "      <th>logmortjam</th>\n",
       "      <th>logmortcap250</th>\n",
       "      <th>logmortjam250</th>\n",
       "      <th>wandcafrica</th>\n",
       "      <th>malfal94</th>\n",
       "      <th>wacacontested</th>\n",
       "      <th>mortnaval2250</th>\n",
       "      <th>logmortnaval2250</th>\n",
       "      <th>mortnaval1250</th>\n",
       "      <th>logmortnaval1250</th>\n",
       "    </tr>\n",
       "  </thead>\n",
       "  <tbody>\n",
       "    <tr>\n",
       "      <th>0</th>\n",
       "      <td>Bangladesh</td>\n",
       "      <td>BGD</td>\n",
       "      <td>4.268438</td>\n",
       "      <td>5.140000</td>\n",
       "      <td>6.88</td>\n",
       "      <td>1</td>\n",
       "      <td>1</td>\n",
       "      <td>0</td>\n",
       "      <td>0.2667</td>\n",
       "      <td>0</td>\n",
       "      <td>...</td>\n",
       "      <td>4.268438</td>\n",
       "      <td>4.268438</td>\n",
       "      <td>4.268438</td>\n",
       "      <td>0</td>\n",
       "      <td>0.12008</td>\n",
       "      <td>0</td>\n",
       "      <td>71.410004</td>\n",
       "      <td>4.268438</td>\n",
       "      <td>71.410004</td>\n",
       "      <td>4.268438</td>\n",
       "    </tr>\n",
       "    <tr>\n",
       "      <th>1</th>\n",
       "      <td>Canada</td>\n",
       "      <td>CAN</td>\n",
       "      <td>2.778819</td>\n",
       "      <td>9.729999</td>\n",
       "      <td>9.99</td>\n",
       "      <td>0</td>\n",
       "      <td>1</td>\n",
       "      <td>0</td>\n",
       "      <td>0.6667</td>\n",
       "      <td>1</td>\n",
       "      <td>...</td>\n",
       "      <td>2.778819</td>\n",
       "      <td>2.778819</td>\n",
       "      <td>2.778819</td>\n",
       "      <td>0</td>\n",
       "      <td>0.00000</td>\n",
       "      <td>0</td>\n",
       "      <td>16.100000</td>\n",
       "      <td>2.778819</td>\n",
       "      <td>16.100000</td>\n",
       "      <td>2.778819</td>\n",
       "    </tr>\n",
       "    <tr>\n",
       "      <th>2</th>\n",
       "      <td>Congo</td>\n",
       "      <td>COG</td>\n",
       "      <td>5.480639</td>\n",
       "      <td>4.680000</td>\n",
       "      <td>7.42</td>\n",
       "      <td>0</td>\n",
       "      <td>1</td>\n",
       "      <td>1</td>\n",
       "      <td>0.0111</td>\n",
       "      <td>0</td>\n",
       "      <td>...</td>\n",
       "      <td>5.480639</td>\n",
       "      <td>5.480639</td>\n",
       "      <td>5.480639</td>\n",
       "      <td>1</td>\n",
       "      <td>0.95000</td>\n",
       "      <td>0</td>\n",
       "      <td>240.000000</td>\n",
       "      <td>5.480639</td>\n",
       "      <td>240.000000</td>\n",
       "      <td>5.480639</td>\n",
       "    </tr>\n",
       "    <tr>\n",
       "      <th>3</th>\n",
       "      <td>Algeria</td>\n",
       "      <td>DZA</td>\n",
       "      <td>4.359270</td>\n",
       "      <td>6.500000</td>\n",
       "      <td>8.39</td>\n",
       "      <td>1</td>\n",
       "      <td>1</td>\n",
       "      <td>0</td>\n",
       "      <td>0.3111</td>\n",
       "      <td>0</td>\n",
       "      <td>...</td>\n",
       "      <td>4.359270</td>\n",
       "      <td>4.359270</td>\n",
       "      <td>4.359270</td>\n",
       "      <td>0</td>\n",
       "      <td>0.00000</td>\n",
       "      <td>0</td>\n",
       "      <td>78.199997</td>\n",
       "      <td>4.359270</td>\n",
       "      <td>78.199997</td>\n",
       "      <td>4.359270</td>\n",
       "    </tr>\n",
       "    <tr>\n",
       "      <th>4</th>\n",
       "      <td>Egypt</td>\n",
       "      <td>EGY</td>\n",
       "      <td>4.216562</td>\n",
       "      <td>6.770000</td>\n",
       "      <td>7.95</td>\n",
       "      <td>1</td>\n",
       "      <td>1</td>\n",
       "      <td>0</td>\n",
       "      <td>0.3000</td>\n",
       "      <td>0</td>\n",
       "      <td>...</td>\n",
       "      <td>4.216562</td>\n",
       "      <td>4.216562</td>\n",
       "      <td>4.216562</td>\n",
       "      <td>0</td>\n",
       "      <td>0.00000</td>\n",
       "      <td>0</td>\n",
       "      <td>67.800003</td>\n",
       "      <td>4.216562</td>\n",
       "      <td>67.800003</td>\n",
       "      <td>4.216562</td>\n",
       "    </tr>\n",
       "  </tbody>\n",
       "</table>\n",
       "<p>5 rows × 31 columns</p>\n",
       "</div>"
      ],
      "text/plain": [
       "     longname shortnam  logmort0      risk  loggdp  campaign  source0  slave  \\\n",
       "0  Bangladesh      BGD  4.268438  5.140000    6.88         1        1      0   \n",
       "1      Canada      CAN  2.778819  9.729999    9.99         0        1      0   \n",
       "2       Congo      COG  5.480639  4.680000    7.42         0        1      1   \n",
       "3     Algeria      DZA  4.359270  6.500000    8.39         1        1      0   \n",
       "4       Egypt      EGY  4.216562  6.770000    7.95         1        1      0   \n",
       "\n",
       "   latitude  neoeuro  ...  logmortjam  logmortcap250  logmortjam250  \\\n",
       "0    0.2667        0  ...    4.268438       4.268438       4.268438   \n",
       "1    0.6667        1  ...    2.778819       2.778819       2.778819   \n",
       "2    0.0111        0  ...    5.480639       5.480639       5.480639   \n",
       "3    0.3111        0  ...    4.359270       4.359270       4.359270   \n",
       "4    0.3000        0  ...    4.216562       4.216562       4.216562   \n",
       "\n",
       "   wandcafrica  malfal94  wacacontested  mortnaval2250  logmortnaval2250  \\\n",
       "0            0   0.12008              0      71.410004          4.268438   \n",
       "1            0   0.00000              0      16.100000          2.778819   \n",
       "2            1   0.95000              0     240.000000          5.480639   \n",
       "3            0   0.00000              0      78.199997          4.359270   \n",
       "4            0   0.00000              0      67.800003          4.216562   \n",
       "\n",
       "   mortnaval1250  logmortnaval1250  \n",
       "0      71.410004          4.268438  \n",
       "1      16.100000          2.778819  \n",
       "2     240.000000          5.480639  \n",
       "3      78.199997          4.359270  \n",
       "4      67.800003          4.216562  \n",
       "\n",
       "[5 rows x 31 columns]"
      ]
     },
     "execution_count": 7,
     "metadata": {},
     "output_type": "execute_result"
    }
   ],
   "source": [
    "url1 = \"https://raw.githubusercontent.com/jesoto/1REI05/main/Reports/data/acemoglu_2001.csv\"\n",
    "base = pd.read_csv(url1)\n",
    "base.head()"
   ]
  },
  {
   "cell_type": "code",
   "execution_count": 29,
   "id": "ca581dc2",
   "metadata": {
    "scrolled": false
   },
   "outputs": [
    {
     "data": {
      "image/png": "[encoded data removed]",
      "text/plain": [
       "<Figure size 360x360 with 1 Axes>"
      ]
     },
     "metadata": {},
     "output_type": "display_data"
    }
   ],
   "source": [
    "sns.set_style(\"white\")\n",
    "gr1 = sns.lmplot(x=\"logmort0\", y=\"risk\",\n",
    "                     data=base,\n",
    "                     palette='Set1',)\n",
    "plt.xlabel(\"Log of settler mortality\")\n",
    "plt.ylabel(\"Average Expropiaton Risk 1985-95\")\n",
    "plt.show()\n"
   ]
  },
  {
   "cell_type": "markdown",
   "id": "776dd073",
   "metadata": {},
   "source": [
    "The patterns are being seen in the graphic are the following: the colonized countries with the highest GDP (like Canada, United States, New Zeland and Australia) are the ones that have the lowest log of settler mortality and also the highest average expropiation risk. Ironically, the countries at the lower section of the graphic have the higher log of settler mortality but also the lowest Average expropiation risk. They also are the colonized countries with the lowest GDP value."
   ]
  },
  {
   "cell_type": "code",
   "execution_count": 8,
   "id": "e179b32a",
   "metadata": {
    "scrolled": true
   },
   "outputs": [
    {
     "data": {
      "text/html": [
       "<div>\n",
       "<style scoped>\n",
       "    .dataframe tbody tr th:only-of-type {\n",
       "        vertical-align: middle;\n",
       "    }\n",
       "\n",
       "    .dataframe tbody tr th {\n",
       "        vertical-align: top;\n",
       "    }\n",
       "\n",
       "    .dataframe thead th {\n",
       "        text-align: right;\n",
       "    }\n",
       "</style>\n",
       "<table border=\"1\" class=\"dataframe\">\n",
       "  <thead>\n",
       "    <tr style=\"text-align: right;\">\n",
       "      <th></th>\n",
       "      <th>shortnam</th>\n",
       "      <th>africa</th>\n",
       "      <th>lat_abst</th>\n",
       "      <th>avexpr</th>\n",
       "      <th>logpgp95</th>\n",
       "      <th>other</th>\n",
       "      <th>asia</th>\n",
       "      <th>loghjypl</th>\n",
       "      <th>baseco</th>\n",
       "    </tr>\n",
       "  </thead>\n",
       "  <tbody>\n",
       "    <tr>\n",
       "      <th>0</th>\n",
       "      <td>AFG</td>\n",
       "      <td>0</td>\n",
       "      <td>0.366667</td>\n",
       "      <td>NaN</td>\n",
       "      <td>NaN</td>\n",
       "      <td>0</td>\n",
       "      <td>1</td>\n",
       "      <td>NaN</td>\n",
       "      <td>NaN</td>\n",
       "    </tr>\n",
       "    <tr>\n",
       "      <th>1</th>\n",
       "      <td>AGO</td>\n",
       "      <td>1</td>\n",
       "      <td>0.136667</td>\n",
       "      <td>5.363637</td>\n",
       "      <td>7.770645</td>\n",
       "      <td>0</td>\n",
       "      <td>0</td>\n",
       "      <td>-3.411248</td>\n",
       "      <td>1.0</td>\n",
       "    </tr>\n",
       "    <tr>\n",
       "      <th>2</th>\n",
       "      <td>ARE</td>\n",
       "      <td>0</td>\n",
       "      <td>0.266667</td>\n",
       "      <td>7.181818</td>\n",
       "      <td>9.804219</td>\n",
       "      <td>0</td>\n",
       "      <td>1</td>\n",
       "      <td>NaN</td>\n",
       "      <td>NaN</td>\n",
       "    </tr>\n",
       "    <tr>\n",
       "      <th>3</th>\n",
       "      <td>ARG</td>\n",
       "      <td>0</td>\n",
       "      <td>0.377778</td>\n",
       "      <td>6.386363</td>\n",
       "      <td>9.133459</td>\n",
       "      <td>0</td>\n",
       "      <td>0</td>\n",
       "      <td>-0.872274</td>\n",
       "      <td>1.0</td>\n",
       "    </tr>\n",
       "    <tr>\n",
       "      <th>4</th>\n",
       "      <td>ARM</td>\n",
       "      <td>0</td>\n",
       "      <td>0.444444</td>\n",
       "      <td>NaN</td>\n",
       "      <td>7.682482</td>\n",
       "      <td>0</td>\n",
       "      <td>1</td>\n",
       "      <td>NaN</td>\n",
       "      <td>NaN</td>\n",
       "    </tr>\n",
       "  </tbody>\n",
       "</table>\n",
       "</div>"
      ],
      "text/plain": [
       "  shortnam  africa  lat_abst    avexpr  logpgp95  other  asia  loghjypl  \\\n",
       "0      AFG       0  0.366667       NaN       NaN      0     1       NaN   \n",
       "1      AGO       1  0.136667  5.363637  7.770645      0     0 -3.411248   \n",
       "2      ARE       0  0.266667  7.181818  9.804219      0     1       NaN   \n",
       "3      ARG       0  0.377778  6.386363  9.133459      0     0 -0.872274   \n",
       "4      ARM       0  0.444444       NaN  7.682482      0     1       NaN   \n",
       "\n",
       "   baseco  \n",
       "0     NaN  \n",
       "1     1.0  \n",
       "2     NaN  \n",
       "3     1.0  \n",
       "4     NaN  "
      ]
     },
     "execution_count": 8,
     "metadata": {},
     "output_type": "execute_result"
    }
   ],
   "source": [
    "url2 = \"https://raw.githubusercontent.com/jesoto/1REI05/main/Reports/data/acemoglu_2001_regression.csv\"\n",
    "base1 = pd.read_csv(url2)\n",
    "base1.head()"
   ]
  },
  {
   "cell_type": "markdown",
   "id": "5c99992a",
   "metadata": {},
   "source": [
    "### 2. Now you have to replicate table 2 of the paper and describe the correlations you found:"
   ]
  },
  {
   "cell_type": "code",
   "execution_count": 12,
   "id": "b7d20b98",
   "metadata": {},
   "outputs": [
    {
     "name": "stdout",
     "output_type": "stream",
     "text": [
      "                            OLS Regression Results                            \n",
      "==============================================================================\n",
      "Dep. Variable:               logpgp95   R-squared:                       0.611\n",
      "Model:                            OLS   Adj. R-squared:                  0.608\n",
      "Method:                 Least Squares   F-statistic:                     334.8\n",
      "Date:                Sat, 07 May 2022   Prob (F-statistic):           5.14e-35\n",
      "Time:                        17:50:06   Log-Likelihood:                -119.71\n",
      "No. Observations:                 111   AIC:                             243.4\n",
      "Df Residuals:                     109   BIC:                             248.8\n",
      "Df Model:                           1                                         \n",
      "Covariance Type:                  HC1                                         \n",
      "==============================================================================\n",
      "                 coef    std err          z      P>|z|      [0.025      0.975]\n",
      "------------------------------------------------------------------------------\n",
      "Intercept      4.6261      0.241     19.222      0.000       4.154       5.098\n",
      "avexpr         0.5319      0.029     18.297      0.000       0.475       0.589\n",
      "==============================================================================\n",
      "Omnibus:                        9.251   Durbin-Watson:                   1.689\n",
      "Prob(Omnibus):                  0.010   Jarque-Bera (JB):                9.170\n",
      "Skew:                          -0.680   Prob(JB):                       0.0102\n",
      "Kurtosis:                       3.362   Cond. No.                         33.2\n",
      "==============================================================================\n",
      "\n",
      "Notes:\n",
      "[1] Standard Errors are heteroscedasticity robust (HC1)\n"
     ]
    }
   ],
   "source": [
    "modelo1= 'logpgp95 ~ avexpr'\n",
    "resultado1 = smf.ols(modelo1, data=base1).fit(cov_type='HC1')\n",
    "print(resultado1.summary())"
   ]
  },
  {
   "cell_type": "code",
   "execution_count": 13,
   "id": "0a2a91b0",
   "metadata": {},
   "outputs": [
    {
     "name": "stdout",
     "output_type": "stream",
     "text": [
      "                            OLS Regression Results                            \n",
      "==============================================================================\n",
      "Dep. Variable:               logpgp95   R-squared:                       0.612\n",
      "Model:                            OLS   Adj. R-squared:                  0.605\n",
      "Method:                 Least Squares   F-statistic:                     185.4\n",
      "Date:                Sat, 07 May 2022   Prob (F-statistic):           1.19e-35\n",
      "Time:                        17:50:08   Log-Likelihood:                -119.54\n",
      "No. Observations:                 111   AIC:                             245.1\n",
      "Df Residuals:                     108   BIC:                             253.2\n",
      "Df Model:                           2                                         \n",
      "Covariance Type:                  HC1                                         \n",
      "=======================================================================================\n",
      "                          coef    std err          z      P>|z|      [0.025      0.975]\n",
      "---------------------------------------------------------------------------------------\n",
      "Intercept               4.7700      0.429     11.123      0.000       3.929       5.610\n",
      "baseco == 1[T.True]    -0.0901      0.187     -0.482      0.630      -0.456       0.276\n",
      "avexpr                  0.5191      0.044     11.808      0.000       0.433       0.605\n",
      "==============================================================================\n",
      "Omnibus:                        9.806   Durbin-Watson:                   1.671\n",
      "Prob(Omnibus):                  0.007   Jarque-Bera (JB):                9.868\n",
      "Skew:                          -0.710   Prob(JB):                      0.00720\n",
      "Kurtosis:                       3.346   Cond. No.                         44.8\n",
      "==============================================================================\n",
      "\n",
      "Notes:\n",
      "[1] Standard Errors are heteroscedasticity robust (HC1)\n"
     ]
    }
   ],
   "source": [
    "modelo2= 'logpgp95 ~ avexpr + baseco==1'\n",
    "resultado2 = smf.ols(modelo2, data=base1).fit(cov_type='HC1')\n",
    "print(resultado2.summary())"
   ]
  },
  {
   "cell_type": "code",
   "execution_count": 14,
   "id": "e6ada1a6",
   "metadata": {
    "scrolled": true
   },
   "outputs": [
    {
     "name": "stdout",
     "output_type": "stream",
     "text": [
      "                            OLS Regression Results                            \n",
      "==============================================================================\n",
      "Dep. Variable:               logpgp95   R-squared:                       0.623\n",
      "Model:                            OLS   Adj. R-squared:                  0.616\n",
      "Method:                 Least Squares   F-statistic:                     183.9\n",
      "Date:                Sat, 07 May 2022   Prob (F-statistic):           1.66e-35\n",
      "Time:                        17:50:09   Log-Likelihood:                -118.09\n",
      "No. Observations:                 111   AIC:                             242.2\n",
      "Df Residuals:                     108   BIC:                             250.3\n",
      "Df Model:                           2                                         \n",
      "Covariance Type:                  HC1                                         \n",
      "==============================================================================\n",
      "                 coef    std err          z      P>|z|      [0.025      0.975]\n",
      "------------------------------------------------------------------------------\n",
      "Intercept      4.8729      0.281     17.357      0.000       4.323       5.423\n",
      "avexpr         0.4635      0.052      8.884      0.000       0.361       0.566\n",
      "lat_abst       0.8722      0.499      1.747      0.081      -0.107       1.851\n",
      "==============================================================================\n",
      "Omnibus:                        6.082   Durbin-Watson:                   1.756\n",
      "Prob(Omnibus):                  0.048   Jarque-Bera (JB):                5.950\n",
      "Skew:                          -0.567   Prob(JB):                       0.0510\n",
      "Kurtosis:                       3.037   Cond. No.                         57.4\n",
      "==============================================================================\n",
      "\n",
      "Notes:\n",
      "[1] Standard Errors are heteroscedasticity robust (HC1)\n"
     ]
    }
   ],
   "source": [
    "modelo3= 'logpgp95 ~ avexpr + lat_abst'\n",
    "resultado3 = smf.ols(modelo3, data=base1).fit(cov_type='HC1')\n",
    "print(resultado3.summary())"
   ]
  },
  {
   "cell_type": "code",
   "execution_count": 15,
   "id": "21228dfc",
   "metadata": {},
   "outputs": [
    {
     "name": "stdout",
     "output_type": "stream",
     "text": [
      "                            OLS Regression Results                            \n",
      "==============================================================================\n",
      "Dep. Variable:               logpgp95   R-squared:                       0.715\n",
      "Model:                            OLS   Adj. R-squared:                  0.702\n",
      "Method:                 Least Squares   F-statistic:                     97.09\n",
      "Date:                Sat, 07 May 2022   Prob (F-statistic):           9.39e-38\n",
      "Time:                        17:50:10   Log-Likelihood:                -102.45\n",
      "No. Observations:                 111   AIC:                             216.9\n",
      "Df Residuals:                     105   BIC:                             233.2\n",
      "Df Model:                           5                                         \n",
      "Covariance Type:                  HC1                                         \n",
      "==============================================================================\n",
      "                 coef    std err          z      P>|z|      [0.025      0.975]\n",
      "------------------------------------------------------------------------------\n",
      "Intercept      5.8511      0.293     19.936      0.000       5.276       6.426\n",
      "avexpr         0.3896      0.051      7.638      0.000       0.290       0.490\n",
      "lat_abst       0.3326      0.442      0.752      0.452      -0.535       1.200\n",
      "africa        -0.9164      0.154     -5.946      0.000      -1.218      -0.614\n",
      "asia          -0.1531      0.181     -0.848      0.396      -0.507       0.201\n",
      "other          0.3035      0.174      1.741      0.082      -0.038       0.645\n",
      "==============================================================================\n",
      "Omnibus:                        4.342   Durbin-Watson:                   1.865\n",
      "Prob(Omnibus):                  0.114   Jarque-Bera (JB):                3.936\n",
      "Skew:                          -0.457   Prob(JB):                        0.140\n",
      "Kurtosis:                       3.126   Cond. No.                         58.2\n",
      "==============================================================================\n",
      "\n",
      "Notes:\n",
      "[1] Standard Errors are heteroscedasticity robust (HC1)\n"
     ]
    }
   ],
   "source": [
    "modelo4= 'logpgp95 ~ avexpr + lat_abst+africa + asia + other'\n",
    "resultado4 = smf.ols(modelo4, data=base1).fit(cov_type='HC1')\n",
    "print(resultado4.summary())"
   ]
  },
  {
   "cell_type": "code",
   "execution_count": 16,
   "id": "b221f260",
   "metadata": {},
   "outputs": [
    {
     "name": "stdout",
     "output_type": "stream",
     "text": [
      "                            OLS Regression Results                            \n",
      "==============================================================================\n",
      "Dep. Variable:               logpgp95   R-squared:                       0.623\n",
      "Model:                            OLS   Adj. R-squared:                  0.612\n",
      "Method:                 Least Squares   F-statistic:                     124.5\n",
      "Date:                Sat, 07 May 2022   Prob (F-statistic):           9.29e-35\n",
      "Time:                        17:50:10   Log-Likelihood:                -118.06\n",
      "No. Observations:                 111   AIC:                             244.1\n",
      "Df Residuals:                     107   BIC:                             255.0\n",
      "Df Model:                           3                                         \n",
      "Covariance Type:                  HC1                                         \n",
      "=======================================================================================\n",
      "                          coef    std err          z      P>|z|      [0.025      0.975]\n",
      "---------------------------------------------------------------------------------------\n",
      "Intercept               4.8199      0.423     11.398      0.000       3.991       5.649\n",
      "baseco == 1[T.True]     0.0443      0.208      0.213      0.831      -0.363       0.451\n",
      "avexpr                  0.4649      0.054      8.596      0.000       0.359       0.571\n",
      "lat_abst                0.9346      0.561      1.665      0.096      -0.166       2.035\n",
      "==============================================================================\n",
      "Omnibus:                        5.611   Durbin-Watson:                   1.772\n",
      "Prob(Omnibus):                  0.060   Jarque-Bera (JB):                5.450\n",
      "Skew:                          -0.543   Prob(JB):                       0.0655\n",
      "Kurtosis:                       3.023   Cond. No.                         61.5\n",
      "==============================================================================\n",
      "\n",
      "Notes:\n",
      "[1] Standard Errors are heteroscedasticity robust (HC1)\n"
     ]
    }
   ],
   "source": [
    "modelo5= 'logpgp95 ~ avexpr + lat_abst+ baseco ==1'\n",
    "resultado5 = smf.ols(modelo5, data=base1).fit(cov_type='HC1')\n",
    "print(resultado5.summary())"
   ]
  },
  {
   "cell_type": "code",
   "execution_count": 17,
   "id": "d0309503",
   "metadata": {
    "scrolled": true
   },
   "outputs": [
    {
     "name": "stdout",
     "output_type": "stream",
     "text": [
      "                            OLS Regression Results                            \n",
      "==============================================================================\n",
      "Dep. Variable:               logpgp95   R-squared:                       0.715\n",
      "Model:                            OLS   Adj. R-squared:                  0.699\n",
      "Method:                 Least Squares   F-statistic:                     80.49\n",
      "Date:                Sat, 07 May 2022   Prob (F-statistic):           8.10e-37\n",
      "Time:                        17:50:11   Log-Likelihood:                -102.43\n",
      "No. Observations:                 111   AIC:                             218.9\n",
      "Df Residuals:                     104   BIC:                             237.8\n",
      "Df Model:                           6                                         \n",
      "Covariance Type:                  HC1                                         \n",
      "=======================================================================================\n",
      "                          coef    std err          z      P>|z|      [0.025      0.975]\n",
      "---------------------------------------------------------------------------------------\n",
      "Intercept               5.8072      0.431     13.467      0.000       4.962       6.652\n",
      "baseco == 1[T.True]     0.0321      0.216      0.149      0.882      -0.391       0.455\n",
      "avexpr                  0.3907      0.052      7.448      0.000       0.288       0.494\n",
      "africa                 -0.9141      0.154     -5.938      0.000      -1.216      -0.612\n",
      "lat_abst                0.3817      0.542      0.705      0.481      -0.680       1.443\n",
      "asia                   -0.1415      0.206     -0.687      0.492      -0.545       0.262\n",
      "other                   0.2861      0.211      1.356      0.175      -0.127       0.700\n",
      "==============================================================================\n",
      "Omnibus:                        4.337   Durbin-Watson:                   1.871\n",
      "Prob(Omnibus):                  0.114   Jarque-Bera (JB):                3.931\n",
      "Skew:                          -0.457   Prob(JB):                        0.140\n",
      "Kurtosis:                       3.125   Cond. No.                         69.4\n",
      "==============================================================================\n",
      "\n",
      "Notes:\n",
      "[1] Standard Errors are heteroscedasticity robust (HC1)\n"
     ]
    }
   ],
   "source": [
    "modelo6= 'logpgp95 ~ avexpr + africa + lat_abst + asia + other + baseco ==1'\n",
    "resultado6 = smf.ols(modelo6, data=base1).fit(cov_type='HC1')\n",
    "print(resultado6.summary())"
   ]
  },
  {
   "cell_type": "code",
   "execution_count": 18,
   "id": "5c13f4ac",
   "metadata": {
    "scrolled": true
   },
   "outputs": [
    {
     "name": "stdout",
     "output_type": "stream",
     "text": [
      "                            OLS Regression Results                            \n",
      "==============================================================================\n",
      "Dep. Variable:               loghjypl   R-squared:                       0.554\n",
      "Model:                            OLS   Adj. R-squared:                  0.550\n",
      "Method:                 Least Squares   F-statistic:                     230.6\n",
      "Date:                Sat, 07 May 2022   Prob (F-statistic):           2.37e-28\n",
      "Time:                        17:50:11   Log-Likelihood:                -115.77\n",
      "No. Observations:                 108   AIC:                             235.5\n",
      "Df Residuals:                     106   BIC:                             240.9\n",
      "Df Model:                           1                                         \n",
      "Covariance Type:                  HC1                                         \n",
      "==============================================================================\n",
      "                 coef    std err          z      P>|z|      [0.025      0.975]\n",
      "------------------------------------------------------------------------------\n",
      "Intercept     -4.8276      0.243    -19.858      0.000      -5.304      -4.351\n",
      "avexpr         0.4462      0.029     15.184      0.000       0.389       0.504\n",
      "==============================================================================\n",
      "Omnibus:                        5.190   Durbin-Watson:                   1.480\n",
      "Prob(Omnibus):                  0.075   Jarque-Bera (JB):                5.188\n",
      "Skew:                          -0.534   Prob(JB):                       0.0747\n",
      "Kurtosis:                       2.881   Cond. No.                         31.1\n",
      "==============================================================================\n",
      "\n",
      "Notes:\n",
      "[1] Standard Errors are heteroscedasticity robust (HC1)\n"
     ]
    }
   ],
   "source": [
    "modelo7= 'loghjypl ~ avexpr'\n",
    "resultado7 = smf.ols(modelo7, data=base1).fit(cov_type='HC1')\n",
    "print(resultado7.summary())"
   ]
  },
  {
   "cell_type": "code",
   "execution_count": 19,
   "id": "86037ea3",
   "metadata": {
    "scrolled": true
   },
   "outputs": [
    {
     "name": "stdout",
     "output_type": "stream",
     "text": [
      "                            OLS Regression Results                            \n",
      "==============================================================================\n",
      "Dep. Variable:               loghjypl   R-squared:                       0.554\n",
      "Model:                            OLS   Adj. R-squared:                  0.546\n",
      "Method:                 Least Squares   F-statistic:                     131.3\n",
      "Date:                Sat, 07 May 2022   Prob (F-statistic):           2.70e-29\n",
      "Time:                        17:50:13   Log-Likelihood:                -115.74\n",
      "No. Observations:                 108   AIC:                             237.5\n",
      "Df Residuals:                     105   BIC:                             245.5\n",
      "Df Model:                           2                                         \n",
      "Covariance Type:                  HC1                                         \n",
      "=======================================================================================\n",
      "                          coef    std err          z      P>|z|      [0.025      0.975]\n",
      "---------------------------------------------------------------------------------------\n",
      "Intercept              -4.7790      0.392    -12.183      0.000      -5.548      -4.010\n",
      "baseco == 1[T.True]    -0.0357      0.176     -0.203      0.839      -0.380       0.309\n",
      "avexpr                  0.4422      0.040     10.948      0.000       0.363       0.521\n",
      "==============================================================================\n",
      "Omnibus:                        5.381   Durbin-Watson:                   1.480\n",
      "Prob(Omnibus):                  0.068   Jarque-Bera (JB):                5.425\n",
      "Skew:                          -0.544   Prob(JB):                       0.0664\n",
      "Kurtosis:                       2.857   Cond. No.                         39.6\n",
      "==============================================================================\n",
      "\n",
      "Notes:\n",
      "[1] Standard Errors are heteroscedasticity robust (HC1)\n"
     ]
    }
   ],
   "source": [
    "modelo8= 'loghjypl ~ avexpr + baseco==1'\n",
    "resultado8 = smf.ols(modelo8, data=base1).fit(cov_type='HC1')\n",
    "print(resultado8.summary())"
   ]
  },
  {
   "cell_type": "code",
   "execution_count": 20,
   "id": "77e8de76",
   "metadata": {
    "scrolled": false
   },
   "outputs": [
    {
     "name": "stdout",
     "output_type": "stream",
     "text": [
      "\n",
      "===========================================================================================================================\n",
      "                    logpgp95 I logpgp95 II logpgp95 III logpgp95 IIII logpgp95 IIIII logpgp95 IIIIII loghjypl I loghjypl II\n",
      "---------------------------------------------------------------------------------------------------------------------------\n",
      "Intercept           4.6261***  4.7700***   4.8729***    5.8511***     4.8199***      5.8072***       -4.8276*** -4.7790*** \n",
      "                    (0.2407)   (0.4288)    (0.2808)     (0.2935)      (0.4229)       (0.4312)        (0.2431)   (0.3923)   \n",
      "R-squared           0.6113     0.6125      0.6225       0.7152        0.6227         0.7153          0.5541     0.5543     \n",
      "R-squared Adj.      0.6078     0.6053      0.6155       0.7016        0.6121         0.6989          0.5499     0.5458     \n",
      "africa                                                  -0.9164***                   -0.9141***                            \n",
      "                                                        (0.1541)                     (0.1540)                              \n",
      "asia                                                    -0.1531                      -0.1415                               \n",
      "                                                        (0.1805)                     (0.2060)                              \n",
      "avexpr              0.5319***  0.5191***   0.4635***    0.3896***     0.4649***      0.3907***       0.4462***  0.4422***  \n",
      "                    (0.0291)   (0.0440)    (0.0522)     (0.0510)      (0.0541)       (0.0525)        (0.0294)   (0.0404)   \n",
      "baseco == 1[T.True]            -0.0901                                0.0443         0.0321                     -0.0357    \n",
      "                               (0.1869)                               (0.2076)       (0.2159)                   (0.1758)   \n",
      "lat_abst                                   0.8722*      0.3326        0.9346*        0.3817                                \n",
      "                                           (0.4994)     (0.4424)      (0.5614)       (0.5415)                              \n",
      "other                                                   0.3035*                      0.2861                                \n",
      "                                                        (0.1743)                     (0.2110)                              \n",
      "===========================================================================================================================\n",
      "Standard errors in parentheses.\n",
      "* p<.1, ** p<.05, ***p<.01\n"
     ]
    }
   ],
   "source": [
    "dfoutput = summary_col([resultado1,resultado2,resultado3,resultado4,resultado5,resultado6, resultado7, resultado8],stars=True)\n",
    "print(dfoutput)"
   ]
  },
  {
   "cell_type": "markdown",
   "id": "07022a97",
   "metadata": {},
   "source": [
    "According to the R-squared Adjusted the most significant model is the model 4, which combines five independent variables (Average protection against expropiation risk, Abs/90, Dummy for Africa y Dummy if not in Asia, Africa or The Americas) and their efect on logpgp95 (log PPP GDP pc in 1995, World Bank). This means that the model explains 70% of the variability of the dependent variable (logpgp95). However, not all the five independent variables have a significance (p-value less than 0.05), lat_abst, asia and other have a p-value more than 0.05 so they do not contribute to the model. In fact, the only model which independent variables are significant (p-value less than 0.05) is the first one. This model explains 60% of the variability of the dependent variable (logpgp95), the rest 40% it can not be predicted by it."
   ]
  }
 ],
 "metadata": {
  "kernelspec": {
   "display_name": "Python 3 (ipykernel)",
   "language": "python",
   "name": "python3"
  },
  "language_info": {
   "codemirror_mode": {
    "name": "ipython",
    "version": 3
   },
   "file_extension": ".py",
   "mimetype": "text/x-python",
   "name": "python",
   "nbconvert_exporter": "python",
   "pygments_lexer": "ipython3",
   "version": "3.9.7"
  }
 },
 "nbformat": 4,
 "nbformat_minor": 5
}
