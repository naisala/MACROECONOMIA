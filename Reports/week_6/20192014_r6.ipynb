{
 "cells": [
  {
   "cell_type": "markdown",
   "id": "8e5200ef",
   "metadata": {},
   "source": [
    "# REPORT 6"
   ]
  },
  {
   "cell_type": "markdown",
   "id": "af2d03c2",
   "metadata": {},
   "source": [
    "Mariana Naiara Sosa Larriega\n",
    "\n",
    "20192014"
   ]
  },
  {
   "cell_type": "markdown",
   "id": "81ca6835",
   "metadata": {},
   "source": [
    "## PART 1: \n",
    "### Lean Times in the Peruvian Economy"
   ]
  },
  {
   "cell_type": "markdown",
   "id": "29818466",
   "metadata": {},
   "source": [
    "The research aims to analyze how the monetary and fiscal policies, which were supposed to face the external shock, deepened the recession and inflation between 2014 and 2015 caused initially by the external shock.\n",
    "\n",
    "It is important to underline some of the strengths of this paper. For example, it is appreciated that history has been used as a tool in the methodology to make a comparison with fiscal and monetary policies that failed in the past (periods 1998-2000 with the lack of BCRP dollars) and others that were successful (case of 2008-9 with the crisis, where recommendations were followed to lower the interest rate and increase public investment). This tool is important for taking a look at the past to avoid making the same mistakes of previous governments. In addition to this, North American positivism, which has become absorbed in establishing only variables and finding causality, has forgotten the use of the historical tool that Dancourt brings back together with the study of macroeconomics. Likewise, through this methodology, it does a great job identifying the failures committed by previous governments in the application of policies by the BCRP and the Ministry of Economy, and even questions some of the measures taken that have been harmful and applied in the name of the economic reactivation but, in reality, ended up sacrificing labor rights and environmental commitments.\n",
    "\n",
    "However, the text presents some weaknesses, among them, the methodology that, although it rescues the use of history for macroeconomic analysis through comparisons, is also characterized by the absence of an econometric methodology. Which would be helpful to understand through measures the impact of the external shock and the policies applied on the peruvian economy in 2014 - 2015. Added to this is the fact that the international context is very subtly mentioned. He failed to provide explanations about what was happening in the world and what caused the price of our raw materials for export to drop in price so that we entered lean times. It also seems that the author does not take into account the general situation of regional and local governments and their lack of capacity to be able to execute the budget assigned to them. Therefore, GDP should not be expected to have the impact it requires through public investment when there are no regional or local governments that are capable of exercising that investment effectively.\n",
    "\n",
    "By answering its central research question, the study contributes by helping future governments take into account the accumulated experience of previous governments in economic matters, on applied fiscal and monetary policies that failed or not and in what context. In fact, it also helps to rethink why the wrong measures were applied when there was the possibility of choosing a less harmful and even easier path? At the same time, by comparing periods of lean and fat cows, and the policies in each case, it proposes alternative solutions for the measures that failed. And he uses that comparison to make the case for recommendations that would eventually help the Kuczynski administration, depending on whether or not they decided to take that advice.\n",
    "\n",
    "Within the next specific steps to advance in the question, this opportunity stands out to broaden the research on the effects that events in the international context have on the Peruvian economy. Here it would be convenient to introduce measures that create a scale of levels of economic interdependence to see where our country is located and to see how diversified it is, that is, if we depend on several countries or not. It also opens the doors to a regional investigation of comparative politics on measures applied in Peru and other Latin American countries, which is normally a specialty of International Organizations such as one of the UN commissions in the region, ECLAC. Finally, given the nature of the research, the analysis of the experience from 2015 to 2021 can be resumed, especially in recent years in which the Peruvian economy was hit hard by the pandemic. This with the aim of providing new recommendations to the Castillo government in the process of reactivating the economy."
   ]
  },
  {
   "cell_type": "markdown",
   "id": "f2733cc0",
   "metadata": {},
   "source": [
    "## PART 2: CODING"
   ]
  },
  {
   "cell_type": "markdown",
   "id": "01160b77",
   "metadata": {},
   "source": [
    "#### IS-LM model"
   ]
  },
  {
   "cell_type": "markdown",
   "id": "2baa6402",
   "metadata": {},
   "source": [
    "While LM means liquidity preference-money supply, IS stands for Investments (I) and Savings (S) in the Keynesian macroeconomic model.\n",
    "\n",
    "The IS schedule is derived from the equilbrium condition where output ($Y$) equals spending:\n",
    "\n",
    "$Y=C+I+G+(X−M)$\n",
    "\n",
    "Where:\n",
    "\n",
    "$C$ = household consumption\n",
    "\n",
    "$I$ = private investment\n",
    "\n",
    "$G$ = level of government spending\n",
    "\n",
    "$E$ = exports\n",
    "\n",
    "$M$ = imports"
   ]
  },
  {
   "cell_type": "markdown",
   "id": "f932e7d0",
   "metadata": {},
   "source": [
    "Each of the elements that equals to $Y$ has its own functions:\n",
    "\n",
    "- $C = C0 + bY^d$\n",
    "\n",
    "- $I = I0 - h*r$\n",
    "    - $I0$: Investment intercept\n",
    "    \n",
    "- $G = G0$\n",
    "\n",
    "- $T = tY$\n",
    "\n",
    "- $X = X0$\n",
    "\n",
    "- $M = mY^d$\n",
    "\n",
    "And then we have Aggregate demand:\n",
    "\n",
    "- $AD = C + I + G + X - M$\n"
   ]
  },
  {
   "cell_type": "markdown",
   "id": "efe348aa",
   "metadata": {},
   "source": [
    "At the beggining the equilbrium condition was represented as:\n",
    "\n",
    "$Y=C+I+G+(X−M)$\n",
    "\n",
    "However, after making substitutions to this equilibrium function we obtain: \n",
    "\n",
    "$Y = \\frac{1}{1-(b-m)*(1-T)}((C0 + G0 + I0 + X0 - hr)$\n",
    "\n",
    "Then the private sector (Sp), the public sector (Sg) and the external sector (Se) can be put on a equation: \n",
    "\n",
    "$Sp + Sg + Se = I = I0 - hr$ , this equals to $S(Y) = I(r)$\n",
    "\n",
    "Each of these sector also has its own funtions:\n",
    "\n",
    "- $Sp = Y^d - (C0 + bY^d)$\n",
    "\n",
    "- $Sg = T - G$\n",
    "\n",
    "- $Se = mY^d -  X0$\n",
    "\n",
    "Which means our equation would be:\n",
    "\n",
    "$Y^d - (C0 + bY^d) + (T - G) + (mY^d -  X0) = I0 - hr$\n",
    "\n",
    "Then it changes to:\n",
    "\n",
    "$(1-(b-m)*(1-T))*Y - (C0 + G0 + X0) = I0 - hr$\n",
    "\n",
    "$h*r = I0 - (1-(b-m)*(1-T)*Y + (C0 + G0 + I0 + X0)$\n",
    "\n",
    "$h*r = (C0 + G0 + I0 + X0) - (1-(b-m)*(1-T))*Y$\n",
    "\n",
    "Finally, we obtain an equivalence for the equilibrium function: \n",
    "\n",
    "$r = \\frac{1}{h}(C0 + G0 + I0 + X0) - \\frac{1-(b-m)*(1-T)}{h}*Y$\n",
    "\n",
    "\n"
   ]
  },
  {
   "cell_type": "code",
   "execution_count": 26,
   "id": "3147fd96",
   "metadata": {},
   "outputs": [
    {
     "data": {
      "image/png": "[encoded data removed]",
      "text/plain": [
       "<Figure size 720x576 with 1 Axes>"
      ]
     },
     "metadata": {},
     "output_type": "display_data"
    }
   ],
   "source": [
    "import numpy as np               # Package for scientific computing with Python\n",
    "import matplotlib.pyplot as plt  # Matplotlib is a 2D plotting library\n",
    "\n",
    "\"2|DEFINE PARAMETERS AND ARRAYS\"\n",
    "# Parameters\n",
    "Y_size = 100\n",
    "C0 = 20                 # Autonomous consumption\n",
    "b = 0.2                # Marginal propensity to consume\n",
    "alpha = 5              # Autonomous imports\n",
    "m = 0.2            # Marginal propensity to import\n",
    "T = 1                  # Taxes\n",
    "I0 = 10             # Investment intercept (when r = 0)\n",
    "G0 = 8              # Government spending\n",
    "X0 = 2              # Exports (given)\n",
    "h = 5                  # Investment slope wrt to i\n",
    "# Arrays\n",
    "Y = np.arange(Y_size)  # Array values of Y\n",
    "\n",
    "\"3|DEFINE AND POPULATE THE IS-SCHEDULE\"\n",
    "def r_IS(C0, alpha, b, m, T, I0, G0, X0, h, Y):\n",
    "    r_IS = ((C0 + I0 + G0 + X0) - (1-(b-m)*(1-T))*Y)/h\n",
    "    return r_IS\n",
    "\n",
    "def Y_IS(Co, alpha, b, m, T, I0, G0, X0, h, r):\n",
    "    Y_IS = (C0 + I0 + G0 + X0)/1-(b-m)*(1-T) - h*r/(1-(b-m)*(1-T))\n",
    "    return Y_IS\n",
    "\n",
    "r = r_IS(C0, alpha, b, m, T, I0, G0, X0, h, Y)\n",
    "\n",
    "\"4|PLOT THE IS-SCHEDULE\"\n",
    "y_max = np.max(r)\n",
    "x_max = Y_IS(C0, alpha, b, m, T, I0, G0, X0, h, 0)\n",
    "\n",
    "v = [0, x_max, 0, y_max]                        # Set the axes range\n",
    "fig, ax = plt.subplots(figsize=(10, 8))\n",
    "ax.set(title=\"IS SCHEDULE\", xlabel=r'Y', ylabel=r'r')\n",
    "ax.plot(Y, r, \"k-\")\n",
    "ax.yaxis.set_major_locator(plt.NullLocator())   # Hide ticks\n",
    "ax.xaxis.set_major_locator(plt.NullLocator())   # Hide ticks\n",
    "plt.axis(v)                                     # Use 'v' as the axes range\n",
    "plt.show()"
   ]
  },
  {
   "cell_type": "code",
   "execution_count": null,
   "id": "c276d8f1",
   "metadata": {},
   "outputs": [],
   "source": []
  }
 ],
 "metadata": {
  "kernelspec": {
   "display_name": "Python 3 (ipykernel)",
   "language": "python",
   "name": "python3"
  },
  "language_info": {
   "codemirror_mode": {
    "name": "ipython",
    "version": 3
   },
   "file_extension": ".py",
   "mimetype": "text/x-python",
   "name": "python",
   "nbconvert_exporter": "python",
   "pygments_lexer": "ipython3",
   "version": "3.9.7"
  }
 },
 "nbformat": 4,
 "nbformat_minor": 5
}
